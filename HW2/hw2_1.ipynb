{
  "nbformat": 4,
  "nbformat_minor": 0,
  "metadata": {
    "colab": {
      "provenance": [],
      "gpuType": "T4"
    },
    "kernelspec": {
      "name": "python3",
      "display_name": "Python 3"
    },
    "language_info": {
      "name": "python"
    },
    "accelerator": "GPU"
  },
  "cells": [
    {
      "cell_type": "code",
      "source": [
        "# Feel free to import any other libraries and modules.\n",
        "import numpy as np\n",
        "import matplotlib.pyplot as plt\n",
        "import torch\n",
        "from torchvision import datasets, transforms\n",
        "import torch.nn.functional as F\n",
        "from torch.utils.data import TensorDataset, DataLoader\n",
        "from torch import nn\n",
        "import random\n",
        "from torch.utils.data import Subset"
      ],
      "metadata": {
        "id": "i7I7O1kv0S21"
      },
      "execution_count": 1,
      "outputs": []
    },
    {
      "cell_type": "markdown",
      "source": [
        "# Part One: Optimization Algorithms\n",
        "## 1. Gradient Descent\n",
        "The Gradient Descent (GD) algorithm finds the minimum of a given\n",
        "function by taking small steps along the function's gradient:\n",
        "\n",
        ">$\\Theta \\leftarrow \\Theta_0$\n",
        "\n",
        ">**while** stop condition not met **do**\n",
        "\n",
        ">$~~~~$$\\Theta \\leftarrow \\Theta - \\alpha \\nabla_\\Theta f(\\Theta)$\n",
        "\n",
        ">**end while**\n",
        "\n",
        "where $f$ is the function to minimize, $\\nabla_\\Theta f(\\Theta)$\n",
        "denotes $f$'s gradient at $\\Theta$ and $\\alpha$ is the learning rate.\n",
        "\n",
        "**Task1:** Implement the GD algorithm as a function:\n",
        "\n",
        "  \\begin{equation}\n",
        "      \\Theta_{opt} = \\text{GD}(f, \\Theta_0, \\alpha, \\rho)\n",
        "  \\end{equation}\n",
        "where $f$ is a function returning the cost and its gradient with respect to parameter vector $\\Theta$, $\\Theta_0$ is the initial value, and $\\alpha$\n",
        "is the learning rate. You can assume that $\\alpha$. remains constant during the optimization. $\\rho$ is stop condition. \\\\\n",
        "Then, use the GD algorithm to find the optimum of the [Rosenbrock function](https://en.wikipedia.org/wiki/Rosenbrock_function) (Consider $a=1, b=100$).\n",
        " \\\\\n",
        "Also, plot the values found by GD at subsequent iterations.\n",
        "\n",
        "## 2. Newton's Method\n",
        "Newton's method is an iterative optimization algorithm used to find the minimum of a function.\n",
        "The basic update step in Newton's method is given by:\n",
        "\n",
        "\\begin{equation}\n",
        "\\Theta = \\Theta - H^{-1} \\cdot \\nabla f(\\Theta)\n",
        "\\end{equation}\n",
        "\n",
        "\n",
        "Where  $ H $ is the Hessian matrix of the function at $ \\Theta $, and $ H^{-1} $ is the inverse of the Hessian matrix, used to adjust the step size and direction more accurately than just using the gradient alone (as done in gradient descent).\n",
        "\n",
        "#### Line Search\n",
        "Sometimes, Newton's method may take too large of a step, which can lead to divergence. To prevent this, a simple **line search** is used. This reduces the step size $ \\alpha $ if the function value doesn't improve after the step.\n",
        "\n",
        "Steps:\n",
        "1. Compute the gradient and Hessian matrix at the current point.\n",
        "2. Calculate the step direction by multiplying the inverse of the Hessian with the gradient.\n",
        "3. Update the point by subtracting the step from the current point.\n",
        "4. If the function value doesn't improve, reduce the step size $ \\alpha $.\n",
        "5. Repeat until the gradient becomes sufficiently small (close to zero), indicating convergence.\n",
        "\n",
        "\n",
        "\n",
        "**Task2:** Implement Newton's method and compare it with the gradient descent. You will also need to implement a line search alogithm, e.g. (https://en.wikipedia.org/wiki/Backtracking_line_search) and make sure that the Newton's direction is indeed one along which the function is minimized.\n"
      ],
      "metadata": {
        "id": "CeXRppkryQBV"
      }
    },
    {
      "cell_type": "code",
      "source": [
        "def rosenbrock(x):\n",
        "    \"\"\"Returns the value and gradient of Rosenbrock's function at x: 2d vector\"\"\"\n",
        "    a = 1\n",
        "    b = 100\n",
        "    val = (x[0] - a)**2 + b * (x[1] - x[0]**2)**2\n",
        "    dv_dx0 = -2 * (a - x[0]) - 4 * b * x[0] * (x[1] - x[0]**2)\n",
        "    dv_dx1 = 2 * b * (x[1] - x[0]**2)\n",
        "    grad = np.array([dv_dx0, dv_dx1])\n",
        "\n",
        "    return val, grad\n",
        "\n",
        "def rosenbrock_hessian(x):\n",
        "    \"\"\"Returns the value, gradient and hessian of Rosenbrock's function at x: 2d vector\"\"\"\n",
        "    val, grad = rosenbrock(x)\n",
        "\n",
        "    a = 1\n",
        "    b = 100\n",
        "    # Hessian matrix components\n",
        "    d2v_dx0x0 = 2 - 4 * b * (x[1] - x[0]**2) + 8 * b * x[0]**2\n",
        "    d2v_dx0x1 = -4 * b * x[0]\n",
        "    d2v_dx1x0 = -4 * b * x[0]\n",
        "    d2v_dx1x1 = 2 * b\n",
        "\n",
        "    # Hessian matrix\n",
        "    hessian = np.array([[d2v_dx0x0, d2v_dx0x1],\n",
        "                [d2v_dx1x0, d2v_dx1x1]])\n",
        "\n",
        "    return val, grad, hessian\n",
        "\n",
        "\n",
        "def GD(f, theta0, alpha, stop_tolerance=1e-10, max_steps=1000000):\n",
        "    \"\"\"Runs gradient descent algorithm on f.\n",
        "\n",
        "    Args:\n",
        "        f: function that when evaluated on a Theta of same dtype and shape as Theta0\n",
        "            returns a tuple (value, dv_dtheta) with dValuedTheta of the same shape\n",
        "            as Theta\n",
        "        theta0: starting point\n",
        "        alpha: step length\n",
        "        stop_tolerance: stop iterations when improvement is below this threshold\n",
        "        max_steps: maximum number of steps\n",
        "    Returns:\n",
        "        tuple:\n",
        "        - theta: optimum theta found by the algorithm\n",
        "        - history: list of length num_steps containing tuples (theta, (val, dv_dtheta: np.array))\n",
        "\n",
        "    \"\"\"\n",
        "    history = []\n",
        "\n",
        "    theta = np.array(theta0, dtype=float)\n",
        "\n",
        "    step = 0\n",
        "    while step < max_steps:\n",
        "      val, dv_dtheta = f(theta)\n",
        "      theta -= alpha * dv_dtheta\n",
        "      step += 1\n",
        "      history.append((theta.copy(), f(theta)))\n",
        "      if np.linalg.norm(dv_dtheta) < stop_tolerance:\n",
        "        break\n",
        "    return theta, history"
      ],
      "metadata": {
        "id": "DIsMJPFs-kLd"
      },
      "execution_count": 2,
      "outputs": []
    },
    {
      "cell_type": "code",
      "source": [
        "# Find the optimum of rosenbrock function\n",
        "\n",
        "X0 = [0.,2.]\n",
        "Xopt, Xhist = GD(rosenbrock, X0, alpha=1e-3, stop_tolerance=1e-10, max_steps=1e6)\n",
        "\n",
        "print (\"Found optimum at %s in %d steps (true minimum is at [1,1])\" % (Xopt, len(Xhist)))\n",
        "\n",
        "# Plot how the value changes over iterations\n",
        "values = [info[0] for _, info in Xhist]\n",
        "\n",
        "plt.figure(figsize=(10, 6))\n",
        "plt.plot(values)\n",
        "plt.xlabel('Iteration')\n",
        "plt.ylabel('Value')\n",
        "plt.title('Convergence of Gradient Descent on Rosenbrock Function')\n",
        "plt.grid(True)\n",
        "plt.yscale('log')\n",
        "plt.show()"
      ],
      "metadata": {
        "id": "yyb5unZNaSFq",
        "colab": {
          "base_uri": "https://localhost:8080/",
          "height": 581
        },
        "outputId": "cf71fa0c-4b57-4ac7-9fa8-2111aa0b76d0"
      },
      "execution_count": 4,
      "outputs": [
        {
          "output_type": "stream",
          "name": "stdout",
          "text": [
            "Found optimum at [1. 1.] in 54320 steps (true minimum is at [1,1])\n"
          ]
        },
        {
          "output_type": "display_data",
          "data": {
            "text/plain": [
              "<Figure size 1000x600 with 1 Axes>"
            ],
            "image/png": "[encoded data removed]"
          },
          "metadata": {}
        }
      ]
    },
    {
      "cell_type": "code",
      "source": [
        "# Newton's Method\n",
        "def line_search(f, theta, step_dir, t=1.0, beta=0.8, c=1e-4):\n",
        "    val, grad, _ = f(theta)\n",
        "    while True:\n",
        "        new_theta = theta + t * step_dir\n",
        "        new_val, _, _ = f(new_theta)\n",
        "        if new_val <= val + c * t * np.dot(grad, step_dir):\n",
        "            break\n",
        "        t *= beta\n",
        "    return t\n",
        "\n",
        "def Newton(f, theta0, alpha=1, stop_tolerance=1e-10, max_steps=1000000):\n",
        "    \"\"\"Performs Newton's optimization method with a simple line search.\n",
        "\n",
        "    Args:\n",
        "        f: function that when evaluated on a Theta of same dtype and shape as Theta0\n",
        "            returns a tuple (value, gradient, hessian), where gradient and Hessian\n",
        "            have the same shape as Theta.\n",
        "        theta0: starting point.\n",
        "        alpha: step length for backtracking line search (default is 1).\n",
        "        stop_tolerance: stop iterations when the norm of the gradient is below this threshold.\n",
        "        max_steps: maximum number of iterations.\n",
        "    Returns:\n",
        "        tuple:\n",
        "        - theta: optimal Theta after convergence or maximum steps.\n",
        "        - history: list of tuples (theta, value, gradient) containing the optimization path.\n",
        "    \"\"\"\n",
        "    theta = np.array(theta0, dtype=float)\n",
        "    history = []\n",
        "\n",
        "    for step in range(max_steps):\n",
        "        val, grad, hessian = f(theta)\n",
        "        if np.linalg.norm(grad) < stop_tolerance:\n",
        "            break\n",
        "        step_dir = -np.dot(np.linalg.inv(hessian), grad)\n",
        "        alpha = line_search(f, theta, step_dir, alpha)\n",
        "        theta += alpha * step_dir\n",
        "        history.append((theta.copy(), val, grad.copy()))\n",
        "\n",
        "    return theta, history\n",
        "\n",
        "# Test Newton's method on the Rosenbrock function\n",
        "X0 = [0., 2.]  # Initial guess\n",
        "Xopt, Xhist = Newton(rosenbrock_hessian, X0)\n",
        "\n",
        "print(\"Found optimum at %s (true minimum is at [1,1])\" % Xopt)"
      ],
      "metadata": {
        "id": "JQ1Bf6sNMT_B",
        "colab": {
          "base_uri": "https://localhost:8080/"
        },
        "outputId": "2c2c86b0-88a2-4fd5-8389-165ddc1f57f9"
      },
      "execution_count": 5,
      "outputs": [
        {
          "output_type": "stream",
          "name": "stdout",
          "text": [
            "Found optimum at [1. 1.] (true minimum is at [1,1])\n"
          ]
        }
      ]
    },
    {
      "cell_type": "markdown",
      "source": [
        "# Part two: MLP for MNIST Classification\n",
        "In this part, we are going to use `PyTorch`. If you want to become more familiar with it, check this resource: https://www.learnpytorch.io/\n",
        "\n",
        "#### In this homework, you need to\n",
        "- implement SGD optimizer (`./optimizer.py`)\n",
        "- implement forward and backward for FCLayer (`layers.py`)\n",
        "- implement forward and backward for SigmoidLayer (`layers.py`)\n",
        "- implement forward and backward for ReLULayer (`layers.py`)\n",
        "- implement forward and backward for DropoutLayer (`layers.py`)\n",
        "- implement train and test process (`solver.py`)"
      ],
      "metadata": {
        "id": "wNXtvq8u-JSo"
      }
    },
    {
      "cell_type": "code",
      "source": [
        "import sys\n",
        "sys.path.append('layers')\n",
        "sys.path.append('optimizer')\n",
        "sys.path.append('solver')"
      ],
      "metadata": {
        "id": "ES4NCqpI0W7o"
      },
      "execution_count": 2,
      "outputs": []
    },
    {
      "cell_type": "code",
      "source": [
        "from layers import FCLayer, SigmoidLayer, ReLULayer\n",
        "from solver import train, test\n",
        "from optimizer import SGD"
      ],
      "metadata": {
        "id": "4fd4u_v0z2um"
      },
      "execution_count": 3,
      "outputs": []
    },
    {
      "cell_type": "code",
      "source": [
        "seed = 42\n",
        "torch.manual_seed(seed)\n",
        "np.random.seed(seed)\n",
        "device = \"cuda\" if torch.cuda.is_available() else \"cpu\"\n",
        "device"
      ],
      "metadata": {
        "id": "NRwL2rM0O92Z",
        "colab": {
          "base_uri": "https://localhost:8080/",
          "height": 36
        },
        "outputId": "bbb76d58-a046-4f23-b050-26442aa7b966"
      },
      "execution_count": 4,
      "outputs": [
        {
          "output_type": "execute_result",
          "data": {
            "text/plain": [
              "'cuda'"
            ],
            "application/vnd.google.colaboratory.intrinsic+json": {
              "type": "string"
            }
          },
          "metadata": {},
          "execution_count": 4
        }
      ]
    },
    {
      "cell_type": "code",
      "source": [
        "# Load MNIST dataset\n",
        "\n",
        "# Converts PIL image to tensor and scales to [0, 1] and flatten it\n",
        "transform = transforms.Compose([\n",
        "    transforms.ToTensor(),\n",
        "    transforms.Lambda(lambda x: x.view(-1)),\n",
        "])\n",
        "\n",
        "# Load MNIST dataset with the defined transform\n",
        "train_dataset = datasets.MNIST(root='./data', train=True, download=True, transform=transform)\n",
        "test_dataset = datasets.MNIST(root='./data', train=False, download=True, transform=transform)\n",
        "\n",
        "# One-hot encoding for labels\n",
        "def decode_label(label, num_classes=10):\n",
        "    return torch.nn.functional.one_hot(torch.tensor(label), num_classes=num_classes).float()\n",
        "\n",
        "# Preprocess labels and combine with transformed images\n",
        "y_train = [decode_label(label) for _, label in train_dataset]\n",
        "y_test = [decode_label(label) for _, label in test_dataset]\n",
        "\n",
        "# Convert the data into tensor datasets for training and testing\n",
        "train_dataset = TensorDataset(torch.stack([img for img, _ in train_dataset]), torch.stack(y_train))\n",
        "test_dataset = TensorDataset(torch.stack([img for img, _ in test_dataset]), torch.stack(y_test))\n",
        "\n",
        "# Create data loaders\n",
        "train_dataloader = DataLoader(train_dataset, batch_size=32, shuffle=True)\n",
        "test_dataloader = DataLoader(test_dataset, batch_size=32, shuffle=False)"
      ],
      "metadata": {
        "id": "bCXcnjSYaR-R"
      },
      "execution_count": 5,
      "outputs": []
    },
    {
      "cell_type": "code",
      "source": [
        "num_epoch = 20\n",
        "\n",
        "criterion = nn.MSELoss()\n",
        "\n",
        "# Build MLP with FCLayer and SigmoidLayer you've implemented in layers.py\n",
        "sigmoidMLP = nn.Sequential(\n",
        "    FCLayer(784, 128),\n",
        "    SigmoidLayer(),\n",
        "    FCLayer(128, 10)\n",
        ")\n",
        "\n",
        "# Initialize optimizer you've implemented in optimizer.py\n",
        "sgd = SGD(params=sigmoidMLP.parameters(), learning_rate=0.01)\n",
        "\n",
        "# Train the model using train function you've implemented in solver.py\n",
        "sigmoidMLP = train(sigmoidMLP, criterion, sgd, train_dataloader, num_epoch, device=device)"
      ],
      "metadata": {
        "id": "NkRty2cM-kIt",
        "colab": {
          "base_uri": "https://localhost:8080/"
        },
        "outputId": "2b92df2d-a1f6-49ce-ead5-f848c9eef433"
      },
      "execution_count": 10,
      "outputs": [
        {
          "output_type": "stream",
          "name": "stdout",
          "text": [
            "\n",
            "Epoch [0] Average training loss: 0.0771, Average training accuracy: 0.4956\n",
            "\n",
            "Epoch [1] Average training loss: 0.0556, Average training accuracy: 0.7378\n",
            "\n",
            "Epoch [2] Average training loss: 0.0506, Average training accuracy: 0.7835\n",
            "\n",
            "Epoch [3] Average training loss: 0.0482, Average training accuracy: 0.8046\n",
            "\n",
            "Epoch [4] Average training loss: 0.0466, Average training accuracy: 0.8173\n",
            "\n",
            "Epoch [5] Average training loss: 0.0456, Average training accuracy: 0.8254\n",
            "\n",
            "Epoch [6] Average training loss: 0.0448, Average training accuracy: 0.8307\n",
            "\n",
            "Epoch [7] Average training loss: 0.0442, Average training accuracy: 0.8344\n",
            "\n",
            "Epoch [8] Average training loss: 0.0437, Average training accuracy: 0.8384\n",
            "\n",
            "Epoch [9] Average training loss: 0.0432, Average training accuracy: 0.8408\n",
            "\n",
            "Epoch [10] Average training loss: 0.0429, Average training accuracy: 0.8430\n",
            "\n",
            "Epoch [11] Average training loss: 0.0426, Average training accuracy: 0.8455\n",
            "\n",
            "Epoch [12] Average training loss: 0.0423, Average training accuracy: 0.8465\n",
            "\n",
            "Epoch [13] Average training loss: 0.0420, Average training accuracy: 0.8474\n",
            "\n",
            "Epoch [14] Average training loss: 0.0418, Average training accuracy: 0.8489\n",
            "\n",
            "Epoch [15] Average training loss: 0.0415, Average training accuracy: 0.8504\n",
            "\n",
            "Epoch [16] Average training loss: 0.0413, Average training accuracy: 0.8517\n",
            "\n",
            "Epoch [17] Average training loss: 0.0411, Average training accuracy: 0.8514\n",
            "\n",
            "Epoch [18] Average training loss: 0.0409, Average training accuracy: 0.8529\n",
            "\n",
            "Epoch [19] Average training loss: 0.0407, Average training accuracy: 0.8533\n"
          ]
        }
      ]
    },
    {
      "cell_type": "code",
      "source": [
        "# Test your model using test function you've implemented in solver.py\n",
        "test(sigmoidMLP, test_dataloader, device)"
      ],
      "metadata": {
        "id": "F0otZUFrr7WW",
        "colab": {
          "base_uri": "https://localhost:8080/"
        },
        "outputId": "1c0ddad8-b883-4f73-8440-94fcfe41bde7"
      },
      "execution_count": 11,
      "outputs": [
        {
          "output_type": "stream",
          "name": "stdout",
          "text": [
            "The test accuracy is 0.8627.\n",
            "\n"
          ]
        }
      ]
    },
    {
      "cell_type": "code",
      "source": [
        "# Build MLP with FCLayer and ReLULayer\n",
        "reluMLP = nn.Sequential(\n",
        "    FCLayer(784, 128),\n",
        "    ReLULayer(),\n",
        "    FCLayer(128, 10)\n",
        ")\n",
        "\n",
        "# Initialize optimizer\n",
        "sgd = SGD(reluMLP.parameters(), learning_rate=0.01)\n",
        "\n",
        "# Train the model\n",
        "reluMLP = train(reluMLP, criterion, sgd, train_dataloader, num_epoch, device=device)"
      ],
      "metadata": {
        "id": "n-2V-B_er7T2",
        "colab": {
          "base_uri": "https://localhost:8080/"
        },
        "outputId": "755261fb-7353-4d22-9e84-d212538dd91b"
      },
      "execution_count": 12,
      "outputs": [
        {
          "output_type": "stream",
          "name": "stdout",
          "text": [
            "\n",
            "Epoch [0] Average training loss: 0.0712, Average training accuracy: 0.6373\n",
            "\n",
            "Epoch [1] Average training loss: 0.0467, Average training accuracy: 0.8231\n",
            "\n",
            "Epoch [2] Average training loss: 0.0399, Average training accuracy: 0.8589\n",
            "\n",
            "Epoch [3] Average training loss: 0.0357, Average training accuracy: 0.8765\n",
            "\n",
            "Epoch [4] Average training loss: 0.0327, Average training accuracy: 0.8875\n",
            "\n",
            "Epoch [5] Average training loss: 0.0305, Average training accuracy: 0.8953\n",
            "\n",
            "Epoch [6] Average training loss: 0.0288, Average training accuracy: 0.9011\n",
            "\n",
            "Epoch [7] Average training loss: 0.0274, Average training accuracy: 0.9060\n",
            "\n",
            "Epoch [8] Average training loss: 0.0262, Average training accuracy: 0.9103\n",
            "\n",
            "Epoch [9] Average training loss: 0.0253, Average training accuracy: 0.9131\n",
            "\n",
            "Epoch [10] Average training loss: 0.0244, Average training accuracy: 0.9162\n",
            "\n",
            "Epoch [11] Average training loss: 0.0237, Average training accuracy: 0.9185\n",
            "\n",
            "Epoch [12] Average training loss: 0.0231, Average training accuracy: 0.9205\n",
            "\n",
            "Epoch [13] Average training loss: 0.0225, Average training accuracy: 0.9227\n",
            "\n",
            "Epoch [14] Average training loss: 0.0220, Average training accuracy: 0.9248\n",
            "\n",
            "Epoch [15] Average training loss: 0.0215, Average training accuracy: 0.9264\n",
            "\n",
            "Epoch [16] Average training loss: 0.0211, Average training accuracy: 0.9279\n",
            "\n",
            "Epoch [17] Average training loss: 0.0207, Average training accuracy: 0.9289\n",
            "\n",
            "Epoch [18] Average training loss: 0.0204, Average training accuracy: 0.9297\n",
            "\n",
            "Epoch [19] Average training loss: 0.0200, Average training accuracy: 0.9309\n"
          ]
        }
      ]
    },
    {
      "cell_type": "code",
      "source": [
        "# Test the model\n",
        "test(reluMLP, test_dataloader, device)"
      ],
      "metadata": {
        "id": "sLjxTbq8r7RZ",
        "colab": {
          "base_uri": "https://localhost:8080/"
        },
        "outputId": "6b913908-0d67-4b35-af73-4dbbc045fbf3"
      },
      "execution_count": 13,
      "outputs": [
        {
          "output_type": "stream",
          "name": "stdout",
          "text": [
            "The test accuracy is 0.9313.\n",
            "\n"
          ]
        }
      ]
    },
    {
      "cell_type": "markdown",
      "source": [
        "### Overfit the model\n",
        "Try to overfit the reluMLP model. You can make the model as complex as you like, use subset of the data for training or any other approach you want.\n",
        "Then add **DropoutLayer** to your model in order to reduce overfitting problem."
      ],
      "metadata": {
        "id": "krsqZLJ-qQKH"
      }
    },
    {
      "cell_type": "code",
      "source": [
        "# Overfit the reluMLP model\n",
        "\n",
        "# Reducing the dataset size\n",
        "num_samples = int(len(train_dataset) * 0.05)\n",
        "small_train_dataset = torch.utils.data.Subset(train_dataset, range(num_samples))\n",
        "small_train_dataloader = torch.utils.data.DataLoader(small_train_dataset, batch_size=32, shuffle=True)\n",
        "\n",
        "# A more complex MLP model with additional layers\n",
        "complexMLP = nn.Sequential(\n",
        "    FCLayer(784, 256),\n",
        "    nn.BatchNorm1d(256),\n",
        "    ReLULayer(),\n",
        "    FCLayer(256, 128),\n",
        "    nn.BatchNorm1d(128),\n",
        "    ReLULayer(),\n",
        "    FCLayer(128, 64),\n",
        "    nn.BatchNorm1d(64),\n",
        "    ReLULayer(),\n",
        "    FCLayer(64, 10)\n",
        ")\n",
        "\n",
        "\n",
        "# Increasing number of epochs\n",
        "num_epoch = 50\n",
        "criterion = nn.MSELoss()\n",
        "sgd = SGD(complexMLP.parameters(), learning_rate=0.01)\n",
        "complexMLP = train(complexMLP, criterion, sgd, small_train_dataloader, num_epoch, device=device)"
      ],
      "metadata": {
        "id": "XbVFtro9qP1i",
        "colab": {
          "base_uri": "https://localhost:8080/"
        },
        "outputId": "196a807a-4172-4b73-e543-6575475a8e7c"
      },
      "execution_count": 6,
      "outputs": [
        {
          "output_type": "stream",
          "name": "stdout",
          "text": [
            "\n",
            "Epoch [0] Average training loss: 0.5144, Average training accuracy: 0.2273\n",
            "\n",
            "Epoch [1] Average training loss: 0.2574, Average training accuracy: 0.3865\n",
            "\n",
            "Epoch [2] Average training loss: 0.1947, Average training accuracy: 0.4817\n",
            "\n",
            "Epoch [3] Average training loss: 0.1609, Average training accuracy: 0.5352\n",
            "\n",
            "Epoch [4] Average training loss: 0.1379, Average training accuracy: 0.5862\n",
            "\n",
            "Epoch [5] Average training loss: 0.1224, Average training accuracy: 0.6383\n",
            "\n",
            "Epoch [6] Average training loss: 0.1095, Average training accuracy: 0.6519\n",
            "\n",
            "Epoch [7] Average training loss: 0.1006, Average training accuracy: 0.6653\n",
            "\n",
            "Epoch [8] Average training loss: 0.0952, Average training accuracy: 0.6978\n",
            "\n",
            "Epoch [9] Average training loss: 0.0875, Average training accuracy: 0.7169\n",
            "\n",
            "Epoch [10] Average training loss: 0.0807, Average training accuracy: 0.7422\n",
            "\n",
            "Epoch [11] Average training loss: 0.0781, Average training accuracy: 0.7516\n",
            "\n",
            "Epoch [12] Average training loss: 0.0746, Average training accuracy: 0.7579\n",
            "\n",
            "Epoch [13] Average training loss: 0.0712, Average training accuracy: 0.7676\n",
            "\n",
            "Epoch [14] Average training loss: 0.0691, Average training accuracy: 0.7775\n",
            "\n",
            "Epoch [15] Average training loss: 0.0667, Average training accuracy: 0.7913\n",
            "\n",
            "Epoch [16] Average training loss: 0.0636, Average training accuracy: 0.7961\n",
            "\n",
            "Epoch [17] Average training loss: 0.0614, Average training accuracy: 0.8104\n",
            "\n",
            "Epoch [18] Average training loss: 0.0591, Average training accuracy: 0.8200\n",
            "\n",
            "Epoch [19] Average training loss: 0.0584, Average training accuracy: 0.8200\n",
            "\n",
            "Epoch [20] Average training loss: 0.0574, Average training accuracy: 0.8217\n",
            "\n",
            "Epoch [21] Average training loss: 0.0542, Average training accuracy: 0.8354\n",
            "\n",
            "Epoch [22] Average training loss: 0.0527, Average training accuracy: 0.8422\n",
            "\n",
            "Epoch [23] Average training loss: 0.0536, Average training accuracy: 0.8364\n",
            "\n",
            "Epoch [24] Average training loss: 0.0511, Average training accuracy: 0.8447\n",
            "\n",
            "Epoch [25] Average training loss: 0.0501, Average training accuracy: 0.8506\n",
            "\n",
            "Epoch [26] Average training loss: 0.0486, Average training accuracy: 0.8608\n",
            "\n",
            "Epoch [27] Average training loss: 0.0490, Average training accuracy: 0.8602\n",
            "\n",
            "Epoch [28] Average training loss: 0.0473, Average training accuracy: 0.8609\n",
            "\n",
            "Epoch [29] Average training loss: 0.0472, Average training accuracy: 0.8630\n",
            "\n",
            "Epoch [30] Average training loss: 0.0465, Average training accuracy: 0.8674\n",
            "\n",
            "Epoch [31] Average training loss: 0.0459, Average training accuracy: 0.8708\n",
            "\n",
            "Epoch [32] Average training loss: 0.0449, Average training accuracy: 0.8742\n",
            "\n",
            "Epoch [33] Average training loss: 0.0438, Average training accuracy: 0.8757\n",
            "\n",
            "Epoch [34] Average training loss: 0.0423, Average training accuracy: 0.8854\n",
            "\n",
            "Epoch [35] Average training loss: 0.0425, Average training accuracy: 0.8767\n",
            "\n",
            "Epoch [36] Average training loss: 0.0420, Average training accuracy: 0.8860\n",
            "\n",
            "Epoch [37] Average training loss: 0.0412, Average training accuracy: 0.8804\n",
            "\n",
            "Epoch [38] Average training loss: 0.0409, Average training accuracy: 0.8859\n",
            "\n",
            "Epoch [39] Average training loss: 0.0406, Average training accuracy: 0.8862\n",
            "\n",
            "Epoch [40] Average training loss: 0.0399, Average training accuracy: 0.8928\n",
            "\n",
            "Epoch [41] Average training loss: 0.0392, Average training accuracy: 0.8973\n",
            "\n",
            "Epoch [42] Average training loss: 0.0388, Average training accuracy: 0.8987\n",
            "\n",
            "Epoch [43] Average training loss: 0.0389, Average training accuracy: 0.8958\n",
            "\n",
            "Epoch [44] Average training loss: 0.0376, Average training accuracy: 0.8921\n",
            "\n",
            "Epoch [45] Average training loss: 0.0378, Average training accuracy: 0.8947\n",
            "\n",
            "Epoch [46] Average training loss: 0.0376, Average training accuracy: 0.8975\n",
            "\n",
            "Epoch [47] Average training loss: 0.0377, Average training accuracy: 0.8972\n",
            "\n",
            "Epoch [48] Average training loss: 0.0361, Average training accuracy: 0.9058\n",
            "\n",
            "Epoch [49] Average training loss: 0.0359, Average training accuracy: 0.9054\n"
          ]
        }
      ]
    },
    {
      "cell_type": "code",
      "source": [
        "test(complexMLP, test_dataloader, device)"
      ],
      "metadata": {
        "colab": {
          "base_uri": "https://localhost:8080/"
        },
        "id": "uP2EwHJSXO7s",
        "outputId": "5d7a9c35-71c2-4f9b-f3d2-0b0fff5a87e2"
      },
      "execution_count": 7,
      "outputs": [
        {
          "output_type": "stream",
          "name": "stdout",
          "text": [
            "The test accuracy is 0.8525.\n",
            "\n"
          ]
        }
      ]
    },
    {
      "cell_type": "code",
      "source": [
        "from layers import DropoutLayer\n",
        "\n",
        "complexMLP_with_dropout = nn.Sequential(\n",
        "    FCLayer(784, 256),\n",
        "    nn.BatchNorm1d(256),\n",
        "    ReLULayer(),\n",
        "    DropoutLayer(dropout_rate=0.05),\n",
        "    FCLayer(256, 128),\n",
        "    nn.BatchNorm1d(128),\n",
        "    ReLULayer(),\n",
        "    DropoutLayer(dropout_rate=0.05),\n",
        "    FCLayer(128, 64),\n",
        "    nn.BatchNorm1d(64),\n",
        "    ReLULayer(),\n",
        "    DropoutLayer(dropout_rate=0.05),\n",
        "    FCLayer(64, 10)\n",
        ")\n",
        "\n",
        "sgd = SGD(complexMLP_with_dropout.parameters(), learning_rate=0.01)\n",
        "complexMLP_with_dropout = train(complexMLP_with_dropout, criterion, sgd, small_train_dataloader, num_epoch, device=device)"
      ],
      "metadata": {
        "colab": {
          "base_uri": "https://localhost:8080/"
        },
        "id": "qYY1rz-nWOhc",
        "outputId": "e49d2a60-9836-4350-bdde-1b334f84b360"
      },
      "execution_count": 8,
      "outputs": [
        {
          "output_type": "stream",
          "name": "stdout",
          "text": [
            "\n",
            "Epoch [0] Average training loss: 0.6048, Average training accuracy: 0.1975\n",
            "\n",
            "Epoch [1] Average training loss: 0.3259, Average training accuracy: 0.3071\n",
            "\n",
            "Epoch [2] Average training loss: 0.2534, Average training accuracy: 0.3901\n",
            "\n",
            "Epoch [3] Average training loss: 0.2116, Average training accuracy: 0.4445\n",
            "\n",
            "Epoch [4] Average training loss: 0.1871, Average training accuracy: 0.4803\n",
            "\n",
            "Epoch [5] Average training loss: 0.1673, Average training accuracy: 0.5148\n",
            "\n",
            "Epoch [6] Average training loss: 0.1500, Average training accuracy: 0.5404\n",
            "\n",
            "Epoch [7] Average training loss: 0.1412, Average training accuracy: 0.5537\n",
            "\n",
            "Epoch [8] Average training loss: 0.1288, Average training accuracy: 0.5809\n",
            "\n",
            "Epoch [9] Average training loss: 0.1222, Average training accuracy: 0.5880\n",
            "\n",
            "Epoch [10] Average training loss: 0.1134, Average training accuracy: 0.6283\n",
            "\n",
            "Epoch [11] Average training loss: 0.1100, Average training accuracy: 0.6229\n",
            "\n",
            "Epoch [12] Average training loss: 0.1037, Average training accuracy: 0.6431\n",
            "\n",
            "Epoch [13] Average training loss: 0.1004, Average training accuracy: 0.6471\n",
            "\n",
            "Epoch [14] Average training loss: 0.0958, Average training accuracy: 0.6677\n",
            "\n",
            "Epoch [15] Average training loss: 0.0930, Average training accuracy: 0.6749\n",
            "\n",
            "Epoch [16] Average training loss: 0.0894, Average training accuracy: 0.7021\n",
            "\n",
            "Epoch [17] Average training loss: 0.0876, Average training accuracy: 0.6887\n",
            "\n",
            "Epoch [18] Average training loss: 0.0829, Average training accuracy: 0.7145\n",
            "\n",
            "Epoch [19] Average training loss: 0.0814, Average training accuracy: 0.7254\n",
            "\n",
            "Epoch [20] Average training loss: 0.0802, Average training accuracy: 0.7276\n",
            "\n",
            "Epoch [21] Average training loss: 0.0781, Average training accuracy: 0.7322\n",
            "\n",
            "Epoch [22] Average training loss: 0.0765, Average training accuracy: 0.7393\n",
            "\n",
            "Epoch [23] Average training loss: 0.0738, Average training accuracy: 0.7364\n",
            "\n",
            "Epoch [24] Average training loss: 0.0721, Average training accuracy: 0.7551\n",
            "\n",
            "Epoch [25] Average training loss: 0.0697, Average training accuracy: 0.7629\n",
            "\n",
            "Epoch [26] Average training loss: 0.0695, Average training accuracy: 0.7681\n",
            "\n",
            "Epoch [27] Average training loss: 0.0668, Average training accuracy: 0.7830\n",
            "\n",
            "Epoch [28] Average training loss: 0.0664, Average training accuracy: 0.7655\n",
            "\n",
            "Epoch [29] Average training loss: 0.0661, Average training accuracy: 0.7794\n",
            "\n",
            "Epoch [30] Average training loss: 0.0637, Average training accuracy: 0.7856\n",
            "\n",
            "Epoch [31] Average training loss: 0.0621, Average training accuracy: 0.7922\n",
            "\n",
            "Epoch [32] Average training loss: 0.0625, Average training accuracy: 0.7898\n",
            "\n",
            "Epoch [33] Average training loss: 0.0618, Average training accuracy: 0.8024\n",
            "\n",
            "Epoch [34] Average training loss: 0.0599, Average training accuracy: 0.7948\n",
            "\n",
            "Epoch [35] Average training loss: 0.0595, Average training accuracy: 0.8012\n",
            "\n",
            "Epoch [36] Average training loss: 0.0586, Average training accuracy: 0.8135\n",
            "\n",
            "Epoch [37] Average training loss: 0.0580, Average training accuracy: 0.8102\n",
            "\n",
            "Epoch [38] Average training loss: 0.0575, Average training accuracy: 0.8067\n",
            "\n",
            "Epoch [39] Average training loss: 0.0571, Average training accuracy: 0.8128\n",
            "\n",
            "Epoch [40] Average training loss: 0.0552, Average training accuracy: 0.8225\n",
            "\n",
            "Epoch [41] Average training loss: 0.0553, Average training accuracy: 0.8227\n",
            "\n",
            "Epoch [42] Average training loss: 0.0543, Average training accuracy: 0.8265\n",
            "\n",
            "Epoch [43] Average training loss: 0.0538, Average training accuracy: 0.8267\n",
            "\n",
            "Epoch [44] Average training loss: 0.0527, Average training accuracy: 0.8300\n",
            "\n",
            "Epoch [45] Average training loss: 0.0528, Average training accuracy: 0.8270\n",
            "\n",
            "Epoch [46] Average training loss: 0.0511, Average training accuracy: 0.8361\n",
            "\n",
            "Epoch [47] Average training loss: 0.0511, Average training accuracy: 0.8328\n",
            "\n",
            "Epoch [48] Average training loss: 0.0491, Average training accuracy: 0.8485\n",
            "\n",
            "Epoch [49] Average training loss: 0.0507, Average training accuracy: 0.8444\n"
          ]
        }
      ]
    },
    {
      "cell_type": "code",
      "source": [
        "test(complexMLP_with_dropout, test_dataloader, device)"
      ],
      "metadata": {
        "colab": {
          "base_uri": "https://localhost:8080/"
        },
        "id": "1oJFj4-_XnRs",
        "outputId": "0ea0ac66-0b03-4acc-b889-7a5130ae1804"
      },
      "execution_count": 9,
      "outputs": [
        {
          "output_type": "stream",
          "name": "stdout",
          "text": [
            "The test accuracy is 0.8564.\n",
            "\n"
          ]
        }
      ]
    },
    {
      "cell_type": "markdown",
      "source": [
        "The results are mostly in line with expectations. With a smaller dataset, we expect the model to overfit more easily, and adding complexity (additional layers) generally increases the model's capacity to learn intricate patterns within the limited dataset.\n",
        "\n",
        "After using dropout layers, the traning accuracies have reduced. The test accuracy have improved slightly with dropout layers. These show that dropout layers have decreased overfitting, because regularization effect makes it harder for the model to memorize the exact details of the training data, lowering training accuracy slightly but preventing overfitting.\n",
        "\n",
        "Since the dataset size is reduced, aggressive dropout (like 0.5) would significantly hurt learning by dropping too many neurons. This would essentially \"shrink\" the model's effective capacity, making it harder for the model to fit the limited data. That's why we used a smaller dropout probability."
      ],
      "metadata": {
        "id": "JsiBbwRPjwy3"
      }
    },
    {
      "cell_type": "code",
      "source": [],
      "metadata": {
        "id": "JN05ZUkikA7m"
      },
      "execution_count": null,
      "outputs": []
    }
  ]
}